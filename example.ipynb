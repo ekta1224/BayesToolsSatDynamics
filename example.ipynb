{
 "cells": [
  {
   "cell_type": "code",
   "execution_count": 61,
   "metadata": {},
   "outputs": [],
   "source": [
    "import numpy as np\n",
    "import random\n",
    "import matplotlib.pyplot as plt\n",
    "from bayestools_open import BayesTools\n",
    "import matplotlib\n",
    "\n",
    "%matplotlib inline\n",
    "\n",
    "matplotlib.rcParams['font.size'] = 14\n",
    "matplotlib.usetex=True"
   ]
  },
  {
   "cell_type": "code",
   "execution_count": 62,
   "metadata": {
    "collapsed": true
   },
   "outputs": [],
   "source": [
    "# create mock data\n",
    "hosts = [random.gauss(12., 0.5) for i in range(10000)]\n",
    "mockvmax = np.array([random.gauss(86., 17.) for i in range(10000)])\n",
    "mockpos = np.array([random.gauss(148., 76.) for i in range(10000)])\n",
    "mockvel = np.array([random.gauss(148., 90.) for i in range(10000)])"
   ]
  },
  {
   "cell_type": "code",
   "execution_count": 63,
   "metadata": {
    "scrolled": true
   },
   "outputs": [
    {
     "data": {
      "image/png": "[encoded data removed]",
      "text/plain": [
       "<matplotlib.figure.Figure at 0x113baad50>"
      ]
     },
     "metadata": {},
     "output_type": "display_data"
    }
   ],
   "source": [
    "#plot the prior masses\n",
    "plt.figure()\n",
    "plt.hist([10.**h for h in hosts], bins=10**np.linspace(np.min(hosts), np.max(hosts), 30), histtype='step')\n",
    "plt.xlabel(r'M$\\rm_{vir}$')\n",
    "plt.xscale('log')"
   ]
  },
  {
   "cell_type": "code",
   "execution_count": 64,
   "metadata": {
    "collapsed": true
   },
   "outputs": [],
   "source": [
    "# define data and measurement errors for satellite v_max, r, v_tot, and j                                                                                                                                                                                   \n",
    "massivesatdata = [75., 10., 150., 15., 150., 22.5, 20000., 3600.]"
   ]
  },
  {
   "cell_type": "code",
   "execution_count": 65,
   "metadata": {
    "collapsed": true
   },
   "outputs": [],
   "source": [
    "# BayesTools takes in linear masses in units of 10^10 Msun                                                                                                                                                                                           \n",
    "linhosts = np.array([10.**h/1e10 for h in hosts])"
   ]
  },
  {
   "cell_type": "code",
   "execution_count": 66,
   "metadata": {},
   "outputs": [
    {
     "name": "stdout",
     "output_type": "stream",
     "text": [
      "9.0 14.0\n"
     ]
    }
   ],
   "source": [
    "# create instance of massive satellite                                                                                                                                                                                                                       \n",
    "sat = BayesTools(linhosts, massivesatdata)"
   ]
  },
  {
   "cell_type": "code",
   "execution_count": 67,
   "metadata": {},
   "outputs": [
    {
     "name": "stdout",
     "output_type": "stream",
     "text": [
      "9.0 14.0\n"
     ]
    }
   ],
   "source": [
    "# calculate importance sampling weights                                                                                                                                                                                                              \n",
    "priorweights = np.zeros(len(hosts))\n",
    "\n",
    "# for massive satellite analogs, use likelihoods including vmax\n",
    "vmaxweights = sat.vmax_lnweights(mockvmax)\n",
    "vmaxpvweights = sat.vmaxposvel_lnweights(mockvmax, mockpos, mockvel)\n",
    "\n",
    "# for low mass satellite analogs, avoid likelihoods including vmax (or you run into the Too Big To Fail problem)\n",
    "lowmassdata = [15., 10., 60., 15., 140., 20, 14000., 2800.]\n",
    "lowsat = BayesTools(linhosts, lowmassdata)\n",
    "posweights = lowsat.pos_lnweights(mockpos)\n"
   ]
  },
  {
   "cell_type": "code",
   "execution_count": 68,
   "metadata": {
    "collapsed": true
   },
   "outputs": [],
   "source": [
    "# specify grid over which KDE estimates are approximated                                                                                                                                                                                             \n",
    "M = np.arange(int(np.min(hosts)), int(np.max(hosts))+1, 0.001)"
   ]
  },
  {
   "cell_type": "code",
   "execution_count": 69,
   "metadata": {},
   "outputs": [],
   "source": [
    "# calculate probabilities by applying KDE  \n",
    "priorprobs = sat.kde_gauss(priorweights)\n",
    "\n",
    "#massive satellite analog\n",
    "vmaxprobs = sat.kde_gauss(vmaxweights)\n",
    "vmaxpvprobs = sat.kde_gauss(vmaxpvweights)\n",
    "\n",
    "#low mass satellite analog\n",
    "posprobs = lowsat.kde_gauss(posweights)"
   ]
  },
  {
   "cell_type": "code",
   "execution_count": 70,
   "metadata": {},
   "outputs": [
    {
     "name": "stdout",
     "output_type": "stream",
     "text": [
      "log10 posterior mean using vmax: 11.9978462351\n",
      "log10 68% credible interval lengths (lower, upper): 0.48095859509 0.506217962596\n",
      "log10 posterior mean using position: 12.0077574354\n",
      "log10 68% credible interval lengths (lower, upper): 0.449191015668 0.532164239149\n"
     ]
    }
   ],
   "source": [
    "# calculate summary statistics                                                                                                                                                                                                                       \n",
    "vmaxmean = sat.weight_mean(vmaxweights)\n",
    "vmaxlo, vmaxhi = sat.bayes_confint(vmaxprobs, vmaxmean, 0.68)\n",
    "print 'log10 posterior mean using vmax:', vmaxmean\n",
    "print 'log10 68% credible interval lengths (lower, upper):', vmaxlo, vmaxhi \n",
    "\n",
    "\n",
    "posmean = lowsat.weight_mean(posweights)\n",
    "poslo, poshi = lowsat.bayes_confint(posprobs, posmean, 0.68)\n",
    "print 'log10 posterior mean using position:', posmean\n",
    "print 'log10 68% credible interval lengths (lower, upper):', poslo, poshi"
   ]
  },
  {
   "cell_type": "code",
   "execution_count": 71,
   "metadata": {},
   "outputs": [
    {
     "data": {
      "text/plain": [
       "(10.0, 14.0)"
      ]
     },
     "execution_count": 71,
     "metadata": {},
     "output_type": "execute_result"
    },
    {
     "data": {
      "image/png": "[encoded data removed]",
      "text/plain": [
       "<matplotlib.figure.Figure at 0x114159710>"
      ]
     },
     "metadata": {},
     "output_type": "display_data"
    },
    {
     "data": {
      "image/png": "[encoded data removed]",
      "text/plain": [
       "<matplotlib.figure.Figure at 0x1145c6b10>"
      ]
     },
     "metadata": {},
     "output_type": "display_data"
    }
   ],
   "source": [
    "# plot posterior PDFs\n",
    "\n",
    "#massive satellite\n",
    "plt.figure()\n",
    "plt.plot(M, priorprobs, color='blue', lw=2, label='prior')\n",
    "plt.plot(M, vmaxprobs, color='red', lw=2, label=r'prior + v$\\rm_{max}$')\n",
    "plt.plot(M, vmaxpvprobs, color='orange', lw=2, label=r'prior + vmax + pos + vel')\n",
    "plt.xlabel(r'M$\\rm_{vir}$')\n",
    "plt.ylabel(r'P(M$\\rm_{vir}$ | data)')\n",
    "plt.legend()\n",
    "plt.xlim(10., 14.)\n",
    "\n",
    "#low mass satellite \n",
    "plt.figure()\n",
    "plt.plot(M, priorprobs, color='blue', lw=2, label='prior')\n",
    "plt.plot(M, posprobs, color='orange', lw=2, label=r'prior + pos')\n",
    "plt.xlabel(r'M$\\rm_{vir}$')\n",
    "plt.ylabel(r'P(M$\\rm_{vir}$ | data)')\n",
    "plt.legend()\n",
    "plt.xlim(10., 14.)"
   ]
  },
  {
   "cell_type": "markdown",
   "metadata": {},
   "source": [
    "In a similar fashion, posterior probabilities can be computed for any physical satellite parameter (i.e. velocity relative to host, angular momentum, etc.) for which simulated data is available. Joint likelihoods are simply the individual likelihood functions summed together in log space. See the script 'bayestools_open.py' for a complete set of likelihood functions used in the publication.\n",
    "\n",
    "To combine posterior probability distributions for low mass satellites, see Section 3 of Patel, Besla, Mandel, & Sohn  (2017c), submittied to ApJ."
   ]
  },
  {
   "cell_type": "code",
   "execution_count": null,
   "metadata": {
    "collapsed": true
   },
   "outputs": [],
   "source": []
  }
 ],
 "metadata": {
  "kernelspec": {
   "display_name": "Python 2",
   "language": "python",
   "name": "python2"
  },
  "language_info": {
   "codemirror_mode": {
    "name": "ipython",
    "version": 2
   },
   "file_extension": ".py",
   "mimetype": "text/x-python",
   "name": "python",
   "nbconvert_exporter": "python",
   "pygments_lexer": "ipython2",
   "version": "2.7.13"
  }
 },
 "nbformat": 4,
 "nbformat_minor": 1
}
