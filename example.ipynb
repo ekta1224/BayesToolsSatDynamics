{
 "cells": [
  {
   "cell_type": "code",
   "execution_count": 1,
   "metadata": {
    "collapsed": false
   },
   "outputs": [],
   "source": [
    "import numpy as np\n",
    "import random\n",
    "import matplotlib.pyplot as plt\n",
    "from bayestools_open import BayesTools\n",
    "\n",
    "%matplotlib inline"
   ]
  },
  {
   "cell_type": "code",
   "execution_count": 2,
   "metadata": {
    "collapsed": true
   },
   "outputs": [],
   "source": [
    "# create mock data\n",
    "hosts = [random.gauss(12., 0.5) for i in range(10000)]\n",
    "mockvmax = np.array([random.gauss(86., 17.) for i in range(10000)])\n",
    "mockpos = np.array([random.gauss(148., 76.) for i in range(10000)])"
   ]
  },
  {
   "cell_type": "code",
   "execution_count": 3,
   "metadata": {
    "collapsed": false
   },
   "outputs": [
    {
     "data": {
      "image/png": "[encoded data removed]",
      "text/plain": [
       "<matplotlib.figure.Figure at 0x10bc96090>"
      ]
     },
     "metadata": {},
     "output_type": "display_data"
    }
   ],
   "source": [
    "#plot the prior masses\n",
    "plt.figure()\n",
    "plt.hist([10.**h for h in hosts], bins=10**np.linspace(np.min(hosts), np.max(hosts), 30), histtype='step')\n",
    "plt.xlabel(r'M$\\rm_{vir}$')\n",
    "plt.xscale('log')"
   ]
  },
  {
   "cell_type": "code",
   "execution_count": 4,
   "metadata": {
    "collapsed": true
   },
   "outputs": [],
   "source": [
    "# define data and measurement errors for satellite v_max, r, v_tot, and j                                                                                                                                                                                   \n",
    "satdata = [75., 10., 150., 15., 150., 22.5, 20000., 3600.]"
   ]
  },
  {
   "cell_type": "code",
   "execution_count": 5,
   "metadata": {
    "collapsed": true
   },
   "outputs": [],
   "source": [
    "# BayesTools takes in linear masses in units of 10^10 Msun                                                                                                                                                                                           \n",
    "linhosts = np.array([10.**h/1e10 for h in hosts])"
   ]
  },
  {
   "cell_type": "code",
   "execution_count": 6,
   "metadata": {
    "collapsed": false
   },
   "outputs": [
    {
     "name": "stdout",
     "output_type": "stream",
     "text": [
      "10.0 14.0\n"
     ]
    }
   ],
   "source": [
    "# create instance of satellite                                                                                                                                                                                                                       \n",
    "sat = BayesTools(linhosts, satdata)"
   ]
  },
  {
   "cell_type": "code",
   "execution_count": 7,
   "metadata": {
    "collapsed": false
   },
   "outputs": [],
   "source": [
    "# calculate importance sampling weights                                                                                                                                                                                                              \n",
    "priorweights = np.zeros(len(hosts))\n",
    "vmaxweights = sat.vmax_lnweights(mockvmax)\n",
    "posweights = sat.pos_lnweights(mockpos)"
   ]
  },
  {
   "cell_type": "code",
   "execution_count": 8,
   "metadata": {
    "collapsed": true
   },
   "outputs": [],
   "source": [
    "# specify grid over which KDE estimates are approximated                                                                                                                                                                                             \n",
    "M = np.arange(int(np.min(hosts)), int(np.max(hosts))+1, 0.001)"
   ]
  },
  {
   "cell_type": "code",
   "execution_count": 9,
   "metadata": {
    "collapsed": false
   },
   "outputs": [],
   "source": [
    "# calculate probabilities by applying KDE                                                                                                                                                                                                            \n",
    "priorprobs = sat.kde_gauss(priorweights)\n",
    "vmaxprobs = sat.kde_gauss(vmaxweights)\n",
    "posprobs = sat.kde_gauss(posweights)"
   ]
  },
  {
   "cell_type": "code",
   "execution_count": 10,
   "metadata": {
    "collapsed": false
   },
   "outputs": [
    {
     "name": "stdout",
     "output_type": "stream",
     "text": [
      "log10 posterior mean using vmax: 11.9978089939\n",
      "log10 68% credible interval lengths (lower, upper): 0.489237099545 0.520039059173\n",
      "log10 posterior mean using position: 11.9894487908\n",
      "log10 68% credible interval lengths (lower, upper): 0.505977556618 0.499471175228\n"
     ]
    }
   ],
   "source": [
    "# calculate summary statistics                                                                                                                                                                                                                       \n",
    "vmaxmean = sat.weight_mean(vmaxweights)\n",
    "vmaxlo, vmaxhi = sat.bayes_confint(vmaxprobs, vmaxmean, 0.68)\n",
    "print 'log10 posterior mean using vmax:', vmaxmean\n",
    "print 'log10 68% credible interval lengths (lower, upper):', vmaxlo, vmaxhi \n",
    "\n",
    "\n",
    "posmean = sat.weight_mean(posweights)\n",
    "poslo, poshi = sat.bayes_confint(posprobs, posmean, 0.68)\n",
    "print 'log10 posterior mean using position:', posmean\n",
    "print 'log10 68% credible interval lengths (lower, upper):', poslo, poshi"
   ]
  },
  {
   "cell_type": "code",
   "execution_count": 11,
   "metadata": {
    "collapsed": false
   },
   "outputs": [
    {
     "data": {
      "text/plain": [
       "(10.0, 14.0)"
      ]
     },
     "execution_count": 11,
     "metadata": {},
     "output_type": "execute_result"
    },
    {
     "data": {
      "image/png": "[encoded data removed]",
      "text/plain": [
       "<matplotlib.figure.Figure at 0x10c289610>"
      ]
     },
     "metadata": {},
     "output_type": "display_data"
    }
   ],
   "source": [
    "# plot posterior PDFs\n",
    "plt.figure()\n",
    "plt.plot(M, priorprobs, color='blue', lw=2, label='prior')\n",
    "plt.plot(M, vmaxprobs, color='red', lw=2, label=r'prior + v$\\rm_{max}$')\n",
    "plt.plot(M, posprobs, color='orange', lw=2, label=r'prior + pos')\n",
    "plt.xlabel(r'M$\\rm_{vir}$')\n",
    "plt.ylabel(r'P(M$\\rm_{vir}$ | data)')\n",
    "plt.legend()\n",
    "plt.xlim(10., 14.)"
   ]
  },
  {
   "cell_type": "markdown",
   "metadata": {},
   "source": [
    "In a similar fashion, posterior probabilities can be computed for any physical satellite parameter (i.e. velocity relative to host, angular momentum, etc.) for which simulated data is available. Joint likelihoods are simply the individual likelihood functions summed together in log space. See the script 'bayestools_open.py' for a complete set of likelihood functions used in the publication."
   ]
  },
  {
   "cell_type": "code",
   "execution_count": null,
   "metadata": {
    "collapsed": true
   },
   "outputs": [],
   "source": []
  }
 ],
 "metadata": {
  "kernelspec": {
   "display_name": "Python 2",
   "language": "python",
   "name": "python2"
  },
  "language_info": {
   "codemirror_mode": {
    "name": "ipython",
    "version": 2
   },
   "file_extension": ".py",
   "mimetype": "text/x-python",
   "name": "python",
   "nbconvert_exporter": "python",
   "pygments_lexer": "ipython2",
   "version": "2.7.11"
  }
 },
 "nbformat": 4,
 "nbformat_minor": 0
}
